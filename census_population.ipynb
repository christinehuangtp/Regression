{
 "cells": [
  {
   "cell_type": "markdown",
   "metadata": {},
   "source": [
    "## LA census population"
   ]
  },
  {
   "cell_type": "markdown",
   "metadata": {},
   "source": [
    "## Backgroud"
   ]
  },
  {
   "cell_type": "markdown",
   "metadata": {},
   "source": [
    "Every March and April of the year, US goverment ask residents completed census. What is inside of the census could we know? Are there any linear relation between each factor? The goal of this assignment is to draw a scatter plot with a least square regression line of variables perimeter and area, and calculate the correlation coefficient and the coefficient of determination."
   ]
  },
  {
   "cell_type": "markdown",
   "metadata": {},
   "source": [
    "## Data"
   ]
  },
  {
   "cell_type": "markdown",
   "metadata": {},
   "source": [
    "The dataset hosted by the city of Los Angeles in 2010. The data collected by zip code, which showed the different regions people census. In this assignment, we took population and househole as variable to see if there is any relation between its.  \n",
    "\n",
    "data: https://www.kaggle.com/cityofLA/los-angeles-census-data\n",
    "\n",
    "variables: x - Total Population (number)\n",
    "           y - Total Households (number)\n",
    "           \n",
    "We are courios about if total household change by the total population? So we took total population as a indepentdent variable (X), and total household as a dependent varoable (Y). "
   ]
  },
  {
   "cell_type": "markdown",
   "metadata": {},
   "source": [
    "### Load The data"
   ]
  },
  {
   "cell_type": "code",
   "execution_count": 20,
   "metadata": {},
   "outputs": [],
   "source": [
    "import pandas as pd\n",
    "pop = pd. read_csv(\"2010census-populations.csv\", encoding = \"unicode_escape\")"
   ]
  },
  {
   "cell_type": "markdown",
   "metadata": {},
   "source": [
    "### Explore the data"
   ]
  },
  {
   "cell_type": "markdown",
   "metadata": {},
   "source": [
    "First, checked the data type. Because we are going to calculate the data, the type should be int or float. Also, checked if there is any null column in the dataset. As below showed, all the numbers in each columns are numberic and there is no null row."
   ]
  },
  {
   "cell_type": "code",
   "execution_count": 21,
   "metadata": {},
   "outputs": [
    {
     "name": "stdout",
     "output_type": "stream",
     "text": [
      "<class 'pandas.core.frame.DataFrame'>\n",
      "RangeIndex: 319 entries, 0 to 318\n",
      "Data columns (total 7 columns):\n",
      "Zip Code                  319 non-null int64\n",
      "Total Population          319 non-null int64\n",
      "Median Age                319 non-null float64\n",
      "Total Males               319 non-null int64\n",
      "Total Females             319 non-null int64\n",
      "Total Households          319 non-null int64\n",
      "Average Household Size    319 non-null float64\n",
      "dtypes: float64(2), int64(5)\n",
      "memory usage: 17.5 KB\n"
     ]
    }
   ],
   "source": [
    "pop.info()"
   ]
  },
  {
   "cell_type": "code",
   "execution_count": 22,
   "metadata": {},
   "outputs": [
    {
     "data": {
      "text/plain": [
       "Zip Code                  0\n",
       "Total Population          0\n",
       "Median Age                0\n",
       "Total Males               0\n",
       "Total Females             0\n",
       "Total Households          0\n",
       "Average Household Size    0\n",
       "dtype: int64"
      ]
     },
     "execution_count": 22,
     "metadata": {},
     "output_type": "execute_result"
    }
   ],
   "source": [
    "pop.isnull().sum()"
   ]
  },
  {
   "cell_type": "markdown",
   "metadata": {},
   "source": [
    "### Clean the data"
   ]
  },
  {
   "cell_type": "markdown",
   "metadata": {},
   "source": [
    "Because zip code is a code which not present any meaningful numbers, we dropped the column and rename other columns."
   ]
  },
  {
   "cell_type": "code",
   "execution_count": 23,
   "metadata": {},
   "outputs": [],
   "source": [
    "pop = pop.drop([\"Zip Code\"],axis = 1)"
   ]
  },
  {
   "cell_type": "code",
   "execution_count": 24,
   "metadata": {},
   "outputs": [],
   "source": [
    "pop.columns = [\"Total_Population\",\"Median_Age\",\"Total_Males\",\"Total_Females\",\"Total_Households\",\"Average_Household_Size\"]"
   ]
  },
  {
   "cell_type": "code",
   "execution_count": 25,
   "metadata": {},
   "outputs": [
    {
     "data": {
      "text/html": [
       "<div>\n",
       "<style scoped>\n",
       "    .dataframe tbody tr th:only-of-type {\n",
       "        vertical-align: middle;\n",
       "    }\n",
       "\n",
       "    .dataframe tbody tr th {\n",
       "        vertical-align: top;\n",
       "    }\n",
       "\n",
       "    .dataframe thead th {\n",
       "        text-align: right;\n",
       "    }\n",
       "</style>\n",
       "<table border=\"1\" class=\"dataframe\">\n",
       "  <thead>\n",
       "    <tr style=\"text-align: right;\">\n",
       "      <th></th>\n",
       "      <th>Total_Population</th>\n",
       "      <th>Median_Age</th>\n",
       "      <th>Total_Males</th>\n",
       "      <th>Total_Females</th>\n",
       "      <th>Total_Households</th>\n",
       "      <th>Average_Household_Size</th>\n",
       "    </tr>\n",
       "  </thead>\n",
       "  <tbody>\n",
       "    <tr>\n",
       "      <th>0</th>\n",
       "      <td>1</td>\n",
       "      <td>73.5</td>\n",
       "      <td>0</td>\n",
       "      <td>1</td>\n",
       "      <td>1</td>\n",
       "      <td>1.00</td>\n",
       "    </tr>\n",
       "    <tr>\n",
       "      <th>1</th>\n",
       "      <td>57110</td>\n",
       "      <td>26.6</td>\n",
       "      <td>28468</td>\n",
       "      <td>28642</td>\n",
       "      <td>12971</td>\n",
       "      <td>4.40</td>\n",
       "    </tr>\n",
       "    <tr>\n",
       "      <th>2</th>\n",
       "      <td>51223</td>\n",
       "      <td>25.5</td>\n",
       "      <td>24876</td>\n",
       "      <td>26347</td>\n",
       "      <td>11731</td>\n",
       "      <td>4.36</td>\n",
       "    </tr>\n",
       "    <tr>\n",
       "      <th>3</th>\n",
       "      <td>66266</td>\n",
       "      <td>26.3</td>\n",
       "      <td>32631</td>\n",
       "      <td>33635</td>\n",
       "      <td>15642</td>\n",
       "      <td>4.22</td>\n",
       "    </tr>\n",
       "    <tr>\n",
       "      <th>4</th>\n",
       "      <td>62180</td>\n",
       "      <td>34.8</td>\n",
       "      <td>31302</td>\n",
       "      <td>30878</td>\n",
       "      <td>22547</td>\n",
       "      <td>2.73</td>\n",
       "    </tr>\n",
       "  </tbody>\n",
       "</table>\n",
       "</div>"
      ],
      "text/plain": [
       "   Total_Population  Median_Age  Total_Males  Total_Females  Total_Households  \\\n",
       "0                 1        73.5            0              1                 1   \n",
       "1             57110        26.6        28468          28642             12971   \n",
       "2             51223        25.5        24876          26347             11731   \n",
       "3             66266        26.3        32631          33635             15642   \n",
       "4             62180        34.8        31302          30878             22547   \n",
       "\n",
       "   Average_Household_Size  \n",
       "0                    1.00  \n",
       "1                    4.40  \n",
       "2                    4.36  \n",
       "3                    4.22  \n",
       "4                    2.73  "
      ]
     },
     "execution_count": 25,
     "metadata": {},
     "output_type": "execute_result"
    }
   ],
   "source": [
    "pop.head()"
   ]
  },
  {
   "cell_type": "markdown",
   "metadata": {},
   "source": [
    "## Analysis"
   ]
  },
  {
   "cell_type": "markdown",
   "metadata": {},
   "source": [
    "### import library"
   ]
  },
  {
   "cell_type": "markdown",
   "metadata": {},
   "source": [
    "Before analyze, we called useful library. Using numpy transpose fuction can transfer each cloumn to each list, then we assigned column name by index."
   ]
  },
  {
   "cell_type": "code",
   "execution_count": 26,
   "metadata": {},
   "outputs": [],
   "source": [
    "import numpy as np\n",
    "import statistics as stats\n",
    "import matplotlib.pyplot as plt"
   ]
  },
  {
   "cell_type": "code",
   "execution_count": 27,
   "metadata": {},
   "outputs": [],
   "source": [
    "pop = np.transpose(np.array(pop))\n",
    "Total_Population = pop[0]\n",
    "Median_Age = pop[1]\n",
    "Total_Males = pop[2]\n",
    "Total_Females = pop[3]\n",
    "Total_Households = pop[4]\n",
    "Average_Household_Size = pop[5]"
   ]
  },
  {
   "cell_type": "markdown",
   "metadata": {},
   "source": [
    "### function"
   ]
  },
  {
   "cell_type": "markdown",
   "metadata": {},
   "source": [
    "Functions contained the calculation in slope and intercept of the least square regression line, the drowing of the scatter plot and regression line, the calculation of correlation coefficient and coefficient of determination."
   ]
  },
  {
   "cell_type": "code",
   "execution_count": 28,
   "metadata": {},
   "outputs": [],
   "source": [
    "def show_scatter_plot(title, x_label, y_label, x_values, y_values):\n",
    "    plt.scatter(x_values, y_values)\n",
    "    plt.title(title)\n",
    "    plt.ylabel(y_label)\n",
    "    plt.xlabel(x_label)\n",
    "    plt.show()"
   ]
  },
  {
   "cell_type": "code",
   "execution_count": 29,
   "metadata": {},
   "outputs": [],
   "source": [
    "def calculate_slope_intercept(x_values, y_values):\n",
    "    x = x_values\n",
    "    y = y_values\n",
    "    \n",
    "    n = len(x)\n",
    "    sum_x  = np.sum(x)\n",
    "    sum_y  = np.sum(y)\n",
    "    sum_xx = np.sum(x*x)\n",
    "    sum_xy = np.sum(x*y)\n",
    "    mean_x = np.mean(x)\n",
    "    mean_y = np.mean(y)\n",
    "    \n",
    "    numerator   = sum_xy - (sum_x*sum_y)/n\n",
    "    denominator = sum_xx - ((sum_x*sum_x)/n)\n",
    "    \n",
    "    m = numerator/denominator\n",
    "    b = mean_y - m*mean_x\n",
    "    \n",
    "    return m, b  # slope and intercept"
   ]
  },
  {
   "cell_type": "code",
   "execution_count": 30,
   "metadata": {},
   "outputs": [],
   "source": [
    "def show_least_squares_line(title, x_label, y_label, x_values, y_values):\n",
    "\n",
    "    plt.scatter(x_values, y_values)\n",
    "    m, b = calculate_slope_intercept(x_values, y_values)\n",
    "    reg_line = [m*x + b for x in x_values]  # regression line\n",
    "    plt.plot(x_values, reg_line, color='red')\n",
    "\n",
    "    plt.title(f'{title}, m = {m:.2f}, b = {b:.2f}')\n",
    "    plt.ylabel(y_label)\n",
    "    plt.xlabel(x_label)\n",
    "\n",
    "    plt.show()"
   ]
  },
  {
   "cell_type": "code",
   "execution_count": 31,
   "metadata": {},
   "outputs": [],
   "source": [
    "def coefficient_of_determination(x_values, y_values):\n",
    "    x = x_values\n",
    "    y = y_values\n",
    "    n = len(x)\n",
    "    m, b = calculate_slope_intercept(x_values, y_values)\n",
    "    ss_r = np.sum(y*y) - b*(np.sum(y)) - m*(np.sum(x*y))\n",
    "    ss_t = np.sum(y*y) - ((np.sum(y))**2)/n\n",
    "    r_2 = 1 - ss_r/ss_t\n",
    "    return r_2"
   ]
  },
  {
   "cell_type": "code",
   "execution_count": 32,
   "metadata": {},
   "outputs": [],
   "source": [
    "def correlation_coifficient(x_values,y_values):\n",
    "    x = x_values\n",
    "    y = y_values\n",
    "    n = len(x)\n",
    "    \n",
    "    x_mean = np.mean(x)\n",
    "    y_mean = np.mean(y)\n",
    "    \n",
    "    x_error = x - x_mean\n",
    "    y_error = y - y_mean\n",
    "    \n",
    "    r = (np.sum(x_error*y_error))/(np.sqrt(np.sum(x_error*x_error))*np.sqrt(np.sum(y_error*y_error)))\n",
    "    return r"
   ]
  },
  {
   "cell_type": "markdown",
   "metadata": {},
   "source": [
    "### Generate scatter plot and regression line"
   ]
  },
  {
   "cell_type": "markdown",
   "metadata": {},
   "source": [
    "call scatter plot function to show a scatter plot of total population and total households."
   ]
  },
  {
   "cell_type": "code",
   "execution_count": 33,
   "metadata": {},
   "outputs": [
    {
     "data": {
      "image/png": "[encoded data removed]",
      "text/plain": [
       "<Figure size 432x288 with 1 Axes>"
      ]
     },
     "metadata": {
      "needs_background": "light"
     },
     "output_type": "display_data"
    }
   ],
   "source": [
    "show_scatter_plot('Scatter Plot', 'Total_Population(X)', 'Total_Households(Y)', Total_Population, Total_Households )"
   ]
  },
  {
   "cell_type": "markdown",
   "metadata": {},
   "source": [
    "Draw the least-square regression line through the scatter plot, and it also showed m, b values."
   ]
  },
  {
   "cell_type": "code",
   "execution_count": 34,
   "metadata": {},
   "outputs": [
    {
     "data": {
      "image/png": "[encoded data removed]",
      "text/plain": [
       "<Figure size 432x288 with 1 Axes>"
      ]
     },
     "metadata": {
      "needs_background": "light"
     },
     "output_type": "display_data"
    }
   ],
   "source": [
    "show_least_squares_line('Linear Regression','Total_Pop','Total_Households',Total_Population,Total_Households)"
   ]
  },
  {
   "cell_type": "markdown",
   "metadata": {},
   "source": [
    "### Calculate the correlation coefficient and coefficient of determination"
   ]
  },
  {
   "cell_type": "code",
   "execution_count": 35,
   "metadata": {},
   "outputs": [],
   "source": [
    "r_2 = coefficient_of_determination(Total_Population,Total_Households)\n",
    "r = correlation_coifficient(Total_Population,Total_Households)"
   ]
  },
  {
   "cell_type": "code",
   "execution_count": 36,
   "metadata": {},
   "outputs": [
    {
     "name": "stdout",
     "output_type": "stream",
     "text": [
      "0.8263841837453121\n",
      "0.9090567549637986\n"
     ]
    }
   ],
   "source": [
    "print(r_2)\n",
    "print(r)"
   ]
  },
  {
   "cell_type": "markdown",
   "metadata": {},
   "source": [
    "## Result"
   ]
  },
  {
   "cell_type": "markdown",
   "metadata": {},
   "source": [
    "According to the correlation coefficient, the correlation coifficinet is 0.91, we can conclude that there's a significantly strong relation between total population(X) and total households(Y) in LA. However, we can't not conclue that total household is caused by the total population. Strong correlation does not imply causation becuase it is possilbe that total poluation and total households are each strongly related to another vairable."
   ]
  }
 ],
 "metadata": {
  "kernelspec": {
   "display_name": "Python 3",
   "language": "python",
   "name": "python3"
  },
  "language_info": {
   "codemirror_mode": {
    "name": "ipython",
    "version": 3
   },
   "file_extension": ".py",
   "mimetype": "text/x-python",
   "name": "python",
   "nbconvert_exporter": "python",
   "pygments_lexer": "ipython3",
   "version": "3.7.6"
  }
 },
 "nbformat": 4,
 "nbformat_minor": 2
}
